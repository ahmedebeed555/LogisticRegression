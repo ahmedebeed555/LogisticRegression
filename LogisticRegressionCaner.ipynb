{
  "nbformat": 4,
  "nbformat_minor": 0,
  "metadata": {
    "colab": {
      "provenance": [],
      "authorship_tag": "ABX9TyNJ6CuMX9C+TzaM+PJ5+yJ7",
      "include_colab_link": true
    },
    "kernelspec": {
      "name": "python3",
      "display_name": "Python 3"
    },
    "language_info": {
      "name": "python"
    }
  },
  "cells": [
    {
      "cell_type": "markdown",
      "metadata": {
        "id": "view-in-github",
        "colab_type": "text"
      },
      "source": [
        "<a href=\"https://colab.research.google.com/github/ahmedebeed555/LogisticRegression/blob/main/LogisticRegressionCaner.ipynb\" target=\"_parent\"><img src=\"https://colab.research.google.com/assets/colab-badge.svg\" alt=\"Open In Colab\"/></a>"
      ]
    },
    {
      "cell_type": "code",
      "execution_count": 1,
      "metadata": {
        "colab": {
          "base_uri": "https://localhost:8080/"
        },
        "id": "1cbPYniYPTR0",
        "outputId": "07956203-2831-437e-9b2f-7ad66b629a5b"
      },
      "outputs": [
        {
          "output_type": "stream",
          "name": "stdout",
          "text": [
            "Top 10 Most Important Features:\n",
            "                 Feature  Importance\n",
            "0            mean radius    2.132484\n",
            "26       worst concavity    1.617969\n",
            "11         texture error    1.442984\n",
            "20          worst radius    1.232150\n",
            "25     worst compactness    1.208985\n",
            "28        worst symmetry    0.742764\n",
            "6         mean concavity    0.651940\n",
            "27  worst concave points    0.615251\n",
            "5       mean compactness    0.415569\n",
            "21         worst texture    0.404581\n"
          ]
        }
      ],
      "source": [
        "import numpy as np\n",
        "import pandas as pd\n",
        "from sklearn.datasets import load_breast_cancer\n",
        "from sklearn.linear_model import LogisticRegression\n",
        "from sklearn.model_selection import train_test_split\n",
        "\n",
        "# Load dataset\n",
        "data = load_breast_cancer()\n",
        "X = data.data\n",
        "y = data.target\n",
        "feature_names = data.feature_names\n",
        "\n",
        "# Train/test split\n",
        "X_train, X_test, y_train, y_test = train_test_split(\n",
        "    X, y, test_size=0.2, random_state=42\n",
        ")\n",
        "\n",
        "# Train logistic regression with a faster solver\n",
        "model = LogisticRegression(max_iter=1000, solver='liblinear')\n",
        "model.fit(X_train, y_train)\n",
        "\n",
        "# Get absolute values of coefficients as feature importance\n",
        "importance = np.abs(model.coef_[0])\n",
        "\n",
        "# Create dataframe and sort by importance\n",
        "feature_importance = pd.DataFrame({\n",
        "    \"Feature\": feature_names,\n",
        "    \"Importance\": importance\n",
        "}).sort_values(by=\"Importance\", ascending=False)\n",
        "\n",
        "# Show the top features\n",
        "print(\"Top 10 Most Important Features:\")\n",
        "print(feature_importance.head(10))\n"
      ]
    }
  ]
}