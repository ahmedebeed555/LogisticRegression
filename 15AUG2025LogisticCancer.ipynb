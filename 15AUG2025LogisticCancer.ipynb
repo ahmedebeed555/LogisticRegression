{
  "nbformat": 4,
  "nbformat_minor": 0,
  "metadata": {
    "colab": {
      "provenance": [],
      "authorship_tag": "ABX9TyNn60inP9qgTzwLZgfMIHOq",
      "include_colab_link": true
    },
    "kernelspec": {
      "name": "python3",
      "display_name": "Python 3"
    },
    "language_info": {
      "name": "python"
    }
  },
  "cells": [
    {
      "cell_type": "markdown",
      "metadata": {
        "id": "view-in-github",
        "colab_type": "text"
      },
      "source": [
        "<a href=\"https://colab.research.google.com/github/ahmedebeed555/LogisticRegression/blob/main/15AUG2025LogisticCancer.ipynb\" target=\"_parent\"><img src=\"https://colab.research.google.com/assets/colab-badge.svg\" alt=\"Open In Colab\"/></a>"
      ]
    },
    {
      "cell_type": "code",
      "execution_count": 15,
      "metadata": {
        "colab": {
          "base_uri": "https://localhost:8080/"
        },
        "id": "8nfH-JH1xAmQ",
        "outputId": "e24b030b-df1b-4d83-d780-099a9a5bbc50"
      },
      "outputs": [
        {
          "output_type": "stream",
          "name": "stdout",
          "text": [
            "              precision    recall  f1-score   support\n",
            "\n",
            "           0       0.96      0.93      0.94       212\n",
            "           1       0.96      0.97      0.97       357\n",
            "\n",
            "    accuracy                           0.96       569\n",
            "   macro avg       0.96      0.95      0.95       569\n",
            "weighted avg       0.96      0.96      0.96       569\n",
            "\n"
          ]
        }
      ],
      "source": [
        "import numpy as np\n",
        "import pandas as pd\n",
        "import matplotlib.pyplot as plt\n",
        "import seaborn as sns\n",
        "\n",
        "from sklearn.linear_model import LogisticRegression\n",
        "from sklearn.model_selection import train_test_split\n",
        "from sklearn.datasets import make_classification\n",
        "from sklearn.datasets import load_breast_cancer\n",
        "from sklearn.metrics import mean_squared_error,r2_score,accuracy_score,confusion_matrix,classification_report\n",
        "\n",
        "cancer = load_breast_cancer()\n",
        "\n",
        "x = cancer.data\n",
        "y = cancer.target\n",
        "\n",
        "\n",
        "\n",
        "\n",
        "df = pd.DataFrame(x,columns=cancer.feature_names)\n",
        "df['feature']=y\n",
        "\n",
        "\n",
        "model = LogisticRegression(max_iter=10000)\n",
        "\n",
        "model.fit(df.drop('feature',axis=1),df['feature'])\n",
        "\n",
        "predictions = model.predict(df.drop('feature',axis=1))\n",
        "\n",
        "print(classification_report(df['feature'],predictions))\n",
        "\n"
      ]
    },
    {
      "cell_type": "code",
      "source": [],
      "metadata": {
        "id": "M1M1aSa_Tcuz"
      },
      "execution_count": null,
      "outputs": []
    }
  ]
}